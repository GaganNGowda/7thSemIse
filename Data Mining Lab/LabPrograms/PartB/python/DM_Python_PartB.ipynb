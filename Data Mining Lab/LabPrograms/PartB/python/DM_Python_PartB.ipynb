{
 "cells": [
  {
   "cell_type": "markdown",
   "id": "verified-ticket",
   "metadata": {},
   "source": []
  },
  {
   "cell_type": "code",
   "execution_count": null,
   "id": "square-lindsay",
   "metadata": {},
   "outputs": [],
   "source": [
    "import pandas as pd\n",
    "import numpy as np\n",
    "import seaborn as sns\n",
    "import sklearn\n",
    "import matplotlib.pyplot as plt\n",
    "%matplotlib inline\n",
    "%config IPCompleter.greedy=True"
   ]
  },
  {
   "cell_type": "code",
   "execution_count": 132,
   "id": "hollow-document",
   "metadata": {},
   "outputs": [],
   "source": [
    "data = pd.read_csv('CustomerData.csv')"
   ]
  },
  {
   "cell_type": "code",
   "execution_count": 133,
   "id": "constitutional-amplifier",
   "metadata": {},
   "outputs": [
    {
     "name": "stdout",
     "output_type": "stream",
     "text": [
      "<class 'pandas.core.frame.DataFrame'>\n",
      "RangeIndex: 60 entries, 0 to 59\n",
      "Data columns (total 10 columns):\n",
      " #   Column                     Non-Null Count  Dtype  \n",
      "---  ------                     --------------  -----  \n",
      " 0   customer_id                60 non-null     int64  \n",
      " 1   name                       60 non-null     object \n",
      " 2   gender                     50 non-null     object \n",
      " 3   age                        55 non-null     float64\n",
      " 4   annual income (lakhs)      52 non-null     float64\n",
      " 5   spending score             60 non-null     int64  \n",
      " 6   items purchased (monthly)  60 non-null     int64  \n",
      " 7   country                    60 non-null     object \n",
      " 8   category                   47 non-null     object \n",
      " 9   purchase type              60 non-null     object \n",
      "dtypes: float64(2), int64(3), object(5)\n",
      "memory usage: 4.8+ KB\n"
     ]
    }
   ],
   "source": [
    "data.info()"
   ]
  },
  {
   "cell_type": "code",
   "execution_count": 134,
   "id": "knowing-leave",
   "metadata": {},
   "outputs": [
    {
     "data": {
      "text/html": [
       "<div>\n",
       "<style scoped>\n",
       "    .dataframe tbody tr th:only-of-type {\n",
       "        vertical-align: middle;\n",
       "    }\n",
       "\n",
       "    .dataframe tbody tr th {\n",
       "        vertical-align: top;\n",
       "    }\n",
       "\n",
       "    .dataframe thead th {\n",
       "        text-align: right;\n",
       "    }\n",
       "</style>\n",
       "<table border=\"1\" class=\"dataframe\">\n",
       "  <thead>\n",
       "    <tr style=\"text-align: right;\">\n",
       "      <th></th>\n",
       "      <th>customer_id</th>\n",
       "      <th>name</th>\n",
       "      <th>gender</th>\n",
       "      <th>age</th>\n",
       "      <th>annual income (lakhs)</th>\n",
       "      <th>spending score</th>\n",
       "      <th>items purchased (monthly)</th>\n",
       "      <th>country</th>\n",
       "      <th>category</th>\n",
       "      <th>purchase type</th>\n",
       "    </tr>\n",
       "  </thead>\n",
       "  <tbody>\n",
       "    <tr>\n",
       "      <th>0</th>\n",
       "      <td>1</td>\n",
       "      <td>Edith</td>\n",
       "      <td>Female</td>\n",
       "      <td>NaN</td>\n",
       "      <td>40.9</td>\n",
       "      <td>27</td>\n",
       "      <td>62</td>\n",
       "      <td>Iran</td>\n",
       "      <td>Baby</td>\n",
       "      <td>offline</td>\n",
       "    </tr>\n",
       "    <tr>\n",
       "      <th>1</th>\n",
       "      <td>2</td>\n",
       "      <td>Sinclair</td>\n",
       "      <td>Male</td>\n",
       "      <td>53.0</td>\n",
       "      <td>NaN</td>\n",
       "      <td>42</td>\n",
       "      <td>47</td>\n",
       "      <td>China</td>\n",
       "      <td>NaN</td>\n",
       "      <td>online</td>\n",
       "    </tr>\n",
       "    <tr>\n",
       "      <th>2</th>\n",
       "      <td>3</td>\n",
       "      <td>Enoch</td>\n",
       "      <td>Male</td>\n",
       "      <td>22.0</td>\n",
       "      <td>NaN</td>\n",
       "      <td>70</td>\n",
       "      <td>26</td>\n",
       "      <td>China</td>\n",
       "      <td>Computers</td>\n",
       "      <td>offline</td>\n",
       "    </tr>\n",
       "    <tr>\n",
       "      <th>3</th>\n",
       "      <td>4</td>\n",
       "      <td>Lorenzo</td>\n",
       "      <td>Male</td>\n",
       "      <td>9.0</td>\n",
       "      <td>18.5</td>\n",
       "      <td>68</td>\n",
       "      <td>80</td>\n",
       "      <td>Russia</td>\n",
       "      <td>NaN</td>\n",
       "      <td>online</td>\n",
       "    </tr>\n",
       "    <tr>\n",
       "      <th>4</th>\n",
       "      <td>5</td>\n",
       "      <td>Damian</td>\n",
       "      <td>Male</td>\n",
       "      <td>55.0</td>\n",
       "      <td>18.4</td>\n",
       "      <td>69</td>\n",
       "      <td>89</td>\n",
       "      <td>Philippines</td>\n",
       "      <td>Jewelery</td>\n",
       "      <td>offline</td>\n",
       "    </tr>\n",
       "  </tbody>\n",
       "</table>\n",
       "</div>"
      ],
      "text/plain": [
       "   customer_id      name  gender   age  annual income (lakhs)  spending score  \\\n",
       "0            1     Edith  Female   NaN                   40.9              27   \n",
       "1            2  Sinclair    Male  53.0                    NaN              42   \n",
       "2            3     Enoch    Male  22.0                    NaN              70   \n",
       "3            4   Lorenzo    Male   9.0                   18.5              68   \n",
       "4            5    Damian    Male  55.0                   18.4              69   \n",
       "\n",
       "   items purchased (monthly)      country   category purchase type   \n",
       "0                         62         Iran       Baby        offline  \n",
       "1                         47        China        NaN         online  \n",
       "2                         26        China  Computers        offline  \n",
       "3                         80       Russia        NaN         online  \n",
       "4                         89  Philippines   Jewelery        offline  "
      ]
     },
     "execution_count": 134,
     "metadata": {},
     "output_type": "execute_result"
    }
   ],
   "source": [
    "data.head()"
   ]
  },
  {
   "cell_type": "code",
   "execution_count": 135,
   "id": "fitted-likelihood",
   "metadata": {},
   "outputs": [
    {
     "data": {
      "text/html": [
       "<div>\n",
       "<style scoped>\n",
       "    .dataframe tbody tr th:only-of-type {\n",
       "        vertical-align: middle;\n",
       "    }\n",
       "\n",
       "    .dataframe tbody tr th {\n",
       "        vertical-align: top;\n",
       "    }\n",
       "\n",
       "    .dataframe thead th {\n",
       "        text-align: right;\n",
       "    }\n",
       "</style>\n",
       "<table border=\"1\" class=\"dataframe\">\n",
       "  <thead>\n",
       "    <tr style=\"text-align: right;\">\n",
       "      <th></th>\n",
       "      <th>customer_id</th>\n",
       "      <th>name</th>\n",
       "      <th>gender</th>\n",
       "      <th>age</th>\n",
       "      <th>annual income (lakhs)</th>\n",
       "      <th>spending score</th>\n",
       "      <th>items purchased (monthly)</th>\n",
       "      <th>country</th>\n",
       "      <th>category</th>\n",
       "      <th>purchase type</th>\n",
       "    </tr>\n",
       "  </thead>\n",
       "  <tbody>\n",
       "    <tr>\n",
       "      <th>55</th>\n",
       "      <td>56</td>\n",
       "      <td>Annamarie</td>\n",
       "      <td>NaN</td>\n",
       "      <td>36.0</td>\n",
       "      <td>42.3</td>\n",
       "      <td>54</td>\n",
       "      <td>55</td>\n",
       "      <td>Poland</td>\n",
       "      <td>Beauty</td>\n",
       "      <td>offline</td>\n",
       "    </tr>\n",
       "    <tr>\n",
       "      <th>56</th>\n",
       "      <td>57</td>\n",
       "      <td>Bari</td>\n",
       "      <td>Female</td>\n",
       "      <td>22.0</td>\n",
       "      <td>33.5</td>\n",
       "      <td>36</td>\n",
       "      <td>4</td>\n",
       "      <td>Ukraine</td>\n",
       "      <td>Movies</td>\n",
       "      <td>offline</td>\n",
       "    </tr>\n",
       "    <tr>\n",
       "      <th>57</th>\n",
       "      <td>58</td>\n",
       "      <td>Hersch</td>\n",
       "      <td>Male</td>\n",
       "      <td>0.0</td>\n",
       "      <td>57.2</td>\n",
       "      <td>77</td>\n",
       "      <td>58</td>\n",
       "      <td>Chile</td>\n",
       "      <td>Electronics</td>\n",
       "      <td>offline</td>\n",
       "    </tr>\n",
       "    <tr>\n",
       "      <th>58</th>\n",
       "      <td>59</td>\n",
       "      <td>Brocky</td>\n",
       "      <td>Male</td>\n",
       "      <td>NaN</td>\n",
       "      <td>17.3</td>\n",
       "      <td>34</td>\n",
       "      <td>34</td>\n",
       "      <td>China</td>\n",
       "      <td>NaN</td>\n",
       "      <td>online</td>\n",
       "    </tr>\n",
       "    <tr>\n",
       "      <th>59</th>\n",
       "      <td>60</td>\n",
       "      <td>Erna</td>\n",
       "      <td>Female</td>\n",
       "      <td>56.0</td>\n",
       "      <td>16.0</td>\n",
       "      <td>44</td>\n",
       "      <td>12</td>\n",
       "      <td>France</td>\n",
       "      <td>Beauty</td>\n",
       "      <td>offline</td>\n",
       "    </tr>\n",
       "  </tbody>\n",
       "</table>\n",
       "</div>"
      ],
      "text/plain": [
       "    customer_id       name  gender   age  annual income (lakhs)  \\\n",
       "55           56  Annamarie     NaN  36.0                   42.3   \n",
       "56           57       Bari  Female  22.0                   33.5   \n",
       "57           58     Hersch    Male   0.0                   57.2   \n",
       "58           59     Brocky    Male   NaN                   17.3   \n",
       "59           60       Erna  Female  56.0                   16.0   \n",
       "\n",
       "    spending score  items purchased (monthly)  country     category  \\\n",
       "55              54                         55   Poland       Beauty   \n",
       "56              36                          4  Ukraine       Movies   \n",
       "57              77                         58    Chile  Electronics   \n",
       "58              34                         34    China          NaN   \n",
       "59              44                         12   France       Beauty   \n",
       "\n",
       "   purchase type   \n",
       "55        offline  \n",
       "56        offline  \n",
       "57        offline  \n",
       "58         online  \n",
       "59        offline  "
      ]
     },
     "execution_count": 135,
     "metadata": {},
     "output_type": "execute_result"
    }
   ],
   "source": [
    "data.tail()"
   ]
  },
  {
   "cell_type": "code",
   "execution_count": 136,
   "id": "local-lounge",
   "metadata": {},
   "outputs": [
    {
     "data": {
      "text/html": [
       "<div>\n",
       "<style scoped>\n",
       "    .dataframe tbody tr th:only-of-type {\n",
       "        vertical-align: middle;\n",
       "    }\n",
       "\n",
       "    .dataframe tbody tr th {\n",
       "        vertical-align: top;\n",
       "    }\n",
       "\n",
       "    .dataframe thead th {\n",
       "        text-align: right;\n",
       "    }\n",
       "</style>\n",
       "<table border=\"1\" class=\"dataframe\">\n",
       "  <thead>\n",
       "    <tr style=\"text-align: right;\">\n",
       "      <th></th>\n",
       "      <th>customer_id</th>\n",
       "      <th>age</th>\n",
       "      <th>annual income (lakhs)</th>\n",
       "      <th>spending score</th>\n",
       "      <th>items purchased (monthly)</th>\n",
       "    </tr>\n",
       "  </thead>\n",
       "  <tbody>\n",
       "    <tr>\n",
       "      <th>count</th>\n",
       "      <td>60.000000</td>\n",
       "      <td>55.000000</td>\n",
       "      <td>52.000000</td>\n",
       "      <td>60.000000</td>\n",
       "      <td>60.000000</td>\n",
       "    </tr>\n",
       "    <tr>\n",
       "      <th>mean</th>\n",
       "      <td>30.500000</td>\n",
       "      <td>29.945455</td>\n",
       "      <td>35.578846</td>\n",
       "      <td>46.016667</td>\n",
       "      <td>51.333333</td>\n",
       "    </tr>\n",
       "    <tr>\n",
       "      <th>std</th>\n",
       "      <td>17.464249</td>\n",
       "      <td>18.669066</td>\n",
       "      <td>14.654964</td>\n",
       "      <td>26.076479</td>\n",
       "      <td>30.628815</td>\n",
       "    </tr>\n",
       "    <tr>\n",
       "      <th>min</th>\n",
       "      <td>1.000000</td>\n",
       "      <td>0.000000</td>\n",
       "      <td>11.200000</td>\n",
       "      <td>2.000000</td>\n",
       "      <td>1.000000</td>\n",
       "    </tr>\n",
       "    <tr>\n",
       "      <th>25%</th>\n",
       "      <td>15.750000</td>\n",
       "      <td>15.000000</td>\n",
       "      <td>22.225000</td>\n",
       "      <td>27.000000</td>\n",
       "      <td>25.750000</td>\n",
       "    </tr>\n",
       "    <tr>\n",
       "      <th>50%</th>\n",
       "      <td>30.500000</td>\n",
       "      <td>31.000000</td>\n",
       "      <td>35.150000</td>\n",
       "      <td>43.500000</td>\n",
       "      <td>57.000000</td>\n",
       "    </tr>\n",
       "    <tr>\n",
       "      <th>75%</th>\n",
       "      <td>45.250000</td>\n",
       "      <td>46.000000</td>\n",
       "      <td>50.325000</td>\n",
       "      <td>68.250000</td>\n",
       "      <td>75.250000</td>\n",
       "    </tr>\n",
       "    <tr>\n",
       "      <th>max</th>\n",
       "      <td>60.000000</td>\n",
       "      <td>59.000000</td>\n",
       "      <td>60.000000</td>\n",
       "      <td>100.000000</td>\n",
       "      <td>100.000000</td>\n",
       "    </tr>\n",
       "  </tbody>\n",
       "</table>\n",
       "</div>"
      ],
      "text/plain": [
       "       customer_id        age  annual income (lakhs)  spending score  \\\n",
       "count    60.000000  55.000000              52.000000       60.000000   \n",
       "mean     30.500000  29.945455              35.578846       46.016667   \n",
       "std      17.464249  18.669066              14.654964       26.076479   \n",
       "min       1.000000   0.000000              11.200000        2.000000   \n",
       "25%      15.750000  15.000000              22.225000       27.000000   \n",
       "50%      30.500000  31.000000              35.150000       43.500000   \n",
       "75%      45.250000  46.000000              50.325000       68.250000   \n",
       "max      60.000000  59.000000              60.000000      100.000000   \n",
       "\n",
       "       items purchased (monthly)  \n",
       "count                  60.000000  \n",
       "mean                   51.333333  \n",
       "std                    30.628815  \n",
       "min                     1.000000  \n",
       "25%                    25.750000  \n",
       "50%                    57.000000  \n",
       "75%                    75.250000  \n",
       "max                   100.000000  "
      ]
     },
     "execution_count": 136,
     "metadata": {},
     "output_type": "execute_result"
    }
   ],
   "source": [
    "data.describe()"
   ]
  },
  {
   "cell_type": "code",
   "execution_count": 137,
   "id": "vital-commissioner",
   "metadata": {},
   "outputs": [
    {
     "data": {
      "text/plain": [
       "customer_id                   0\n",
       "name                          0\n",
       "gender                       10\n",
       "age                           5\n",
       "annual income (lakhs)         8\n",
       "spending score                0\n",
       "items purchased (monthly)     0\n",
       "country                       0\n",
       "category                     13\n",
       "purchase type                 0\n",
       "dtype: int64"
      ]
     },
     "execution_count": 137,
     "metadata": {},
     "output_type": "execute_result"
    }
   ],
   "source": [
    "data.isna().sum()"
   ]
  },
  {
   "cell_type": "code",
   "execution_count": 138,
   "id": "interstate-setting",
   "metadata": {},
   "outputs": [
    {
     "data": {
      "text/plain": [
       "0     Female\n",
       "1       Male\n",
       "2       Male\n",
       "3       Male\n",
       "4       Male\n",
       "5     Female\n",
       "6       Male\n",
       "7       Male\n",
       "8       Male\n",
       "9        NaN\n",
       "10      Male\n",
       "11      Male\n",
       "12       NaN\n",
       "13      Male\n",
       "14      Male\n",
       "15    Female\n",
       "16      Male\n",
       "17      Male\n",
       "18    Female\n",
       "19       NaN\n",
       "20       NaN\n",
       "21      Male\n",
       "22    Female\n",
       "23      Male\n",
       "24       NaN\n",
       "25      Male\n",
       "26    Female\n",
       "27    Female\n",
       "28      Male\n",
       "29       NaN\n",
       "30      Male\n",
       "31    Female\n",
       "32      Male\n",
       "33    Female\n",
       "34      Male\n",
       "35    Female\n",
       "36      Male\n",
       "37      Male\n",
       "38      Male\n",
       "39      Male\n",
       "40       NaN\n",
       "41       NaN\n",
       "42      Male\n",
       "43      Male\n",
       "44      Male\n",
       "45    Female\n",
       "46    Female\n",
       "47    Female\n",
       "48    Female\n",
       "49      Male\n",
       "50      Male\n",
       "51      Male\n",
       "52    Female\n",
       "53       NaN\n",
       "54      Male\n",
       "55       NaN\n",
       "56    Female\n",
       "57      Male\n",
       "58      Male\n",
       "59    Female\n",
       "Name: gender, dtype: object"
      ]
     },
     "execution_count": 138,
     "metadata": {},
     "output_type": "execute_result"
    }
   ],
   "source": [
    "data['gender']"
   ]
  },
  {
   "cell_type": "code",
   "execution_count": 139,
   "id": "completed-merchandise",
   "metadata": {},
   "outputs": [],
   "source": [
    "data['gender'].fillna(data.gender.mode()[0],inplace=True)"
   ]
  },
  {
   "cell_type": "code",
   "execution_count": 140,
   "id": "later-millennium",
   "metadata": {},
   "outputs": [
    {
     "data": {
      "text/plain": [
       "0     Female\n",
       "1       Male\n",
       "2       Male\n",
       "3       Male\n",
       "4       Male\n",
       "5     Female\n",
       "6       Male\n",
       "7       Male\n",
       "8       Male\n",
       "9       Male\n",
       "10      Male\n",
       "11      Male\n",
       "12      Male\n",
       "13      Male\n",
       "14      Male\n",
       "15    Female\n",
       "16      Male\n",
       "17      Male\n",
       "18    Female\n",
       "19      Male\n",
       "20      Male\n",
       "21      Male\n",
       "22    Female\n",
       "23      Male\n",
       "24      Male\n",
       "25      Male\n",
       "26    Female\n",
       "27    Female\n",
       "28      Male\n",
       "29      Male\n",
       "30      Male\n",
       "31    Female\n",
       "32      Male\n",
       "33    Female\n",
       "34      Male\n",
       "35    Female\n",
       "36      Male\n",
       "37      Male\n",
       "38      Male\n",
       "39      Male\n",
       "40      Male\n",
       "41      Male\n",
       "42      Male\n",
       "43      Male\n",
       "44      Male\n",
       "45    Female\n",
       "46    Female\n",
       "47    Female\n",
       "48    Female\n",
       "49      Male\n",
       "50      Male\n",
       "51      Male\n",
       "52    Female\n",
       "53      Male\n",
       "54      Male\n",
       "55      Male\n",
       "56    Female\n",
       "57      Male\n",
       "58      Male\n",
       "59    Female\n",
       "Name: gender, dtype: object"
      ]
     },
     "execution_count": 140,
     "metadata": {},
     "output_type": "execute_result"
    }
   ],
   "source": [
    "data['gender']"
   ]
  },
  {
   "cell_type": "code",
   "execution_count": 141,
   "id": "outer-system",
   "metadata": {},
   "outputs": [
    {
     "data": {
      "text/plain": [
       "customer_id                   0\n",
       "name                          0\n",
       "gender                        0\n",
       "age                           5\n",
       "annual income (lakhs)         8\n",
       "spending score                0\n",
       "items purchased (monthly)     0\n",
       "country                       0\n",
       "category                     13\n",
       "purchase type                 0\n",
       "dtype: int64"
      ]
     },
     "execution_count": 141,
     "metadata": {},
     "output_type": "execute_result"
    }
   ],
   "source": [
    "data.isna().sum()"
   ]
  },
  {
   "cell_type": "code",
   "execution_count": 142,
   "id": "completed-adaptation",
   "metadata": {},
   "outputs": [],
   "source": [
    "data['age'].fillna(data.age.mean(),inplace=True)"
   ]
  },
  {
   "cell_type": "code",
   "execution_count": 143,
   "id": "pretty-favor",
   "metadata": {},
   "outputs": [
    {
     "data": {
      "text/plain": [
       "0     29.945455\n",
       "1     53.000000\n",
       "2     22.000000\n",
       "3      9.000000\n",
       "4     55.000000\n",
       "5     52.000000\n",
       "6     19.000000\n",
       "7     23.000000\n",
       "8      0.000000\n",
       "9      3.000000\n",
       "10     8.000000\n",
       "11    54.000000\n",
       "12    10.000000\n",
       "13    29.945455\n",
       "14    33.000000\n",
       "15    58.000000\n",
       "16    59.000000\n",
       "17    34.000000\n",
       "18    42.000000\n",
       "19    57.000000\n",
       "20    21.000000\n",
       "21    12.000000\n",
       "22    15.000000\n",
       "23     5.000000\n",
       "24    40.000000\n",
       "25     4.000000\n",
       "26    46.000000\n",
       "27    55.000000\n",
       "28    35.000000\n",
       "29    20.000000\n",
       "30    56.000000\n",
       "31    47.000000\n",
       "32    57.000000\n",
       "33    29.945455\n",
       "34    25.000000\n",
       "35    16.000000\n",
       "36     1.000000\n",
       "37    15.000000\n",
       "38    11.000000\n",
       "39    15.000000\n",
       "40    51.000000\n",
       "41     4.000000\n",
       "42    31.000000\n",
       "43    33.000000\n",
       "44    39.000000\n",
       "45    25.000000\n",
       "46    41.000000\n",
       "47    46.000000\n",
       "48    46.000000\n",
       "49    19.000000\n",
       "50     7.000000\n",
       "51    38.000000\n",
       "52    36.000000\n",
       "53    30.000000\n",
       "54    29.945455\n",
       "55    36.000000\n",
       "56    22.000000\n",
       "57     0.000000\n",
       "58    29.945455\n",
       "59    56.000000\n",
       "Name: age, dtype: float64"
      ]
     },
     "execution_count": 143,
     "metadata": {},
     "output_type": "execute_result"
    }
   ],
   "source": [
    "data.age"
   ]
  },
  {
   "cell_type": "code",
   "execution_count": 144,
   "id": "opposed-newport",
   "metadata": {},
   "outputs": [
    {
     "data": {
      "text/plain": [
       "customer_id                   0\n",
       "name                          0\n",
       "gender                        0\n",
       "age                           0\n",
       "annual income (lakhs)         8\n",
       "spending score                0\n",
       "items purchased (monthly)     0\n",
       "country                       0\n",
       "category                     13\n",
       "purchase type                 0\n",
       "dtype: int64"
      ]
     },
     "execution_count": 144,
     "metadata": {},
     "output_type": "execute_result"
    }
   ],
   "source": [
    "data.isna().sum()"
   ]
  },
  {
   "cell_type": "code",
   "execution_count": 145,
   "id": "attractive-gateway",
   "metadata": {},
   "outputs": [
    {
     "data": {
      "text/plain": [
       "0            Baby\n",
       "1             NaN\n",
       "2       Computers\n",
       "3             NaN\n",
       "4        Jewelery\n",
       "5           Music\n",
       "6             NaN\n",
       "7          Beauty\n",
       "8     Electronics\n",
       "9           Games\n",
       "10       Outdoors\n",
       "11           Toys\n",
       "12    Electronics\n",
       "13       Outdoors\n",
       "14          Music\n",
       "15           Toys\n",
       "16       Clothing\n",
       "17          Shoes\n",
       "18          Books\n",
       "19          Books\n",
       "20      Computers\n",
       "21     Automotive\n",
       "22       Jewelery\n",
       "23         Health\n",
       "24       Clothing\n",
       "25     Automotive\n",
       "26           Home\n",
       "27           Baby\n",
       "28            NaN\n",
       "29    Electronics\n",
       "30            NaN\n",
       "31            NaN\n",
       "32        Grocery\n",
       "33           Kids\n",
       "34       Outdoors\n",
       "35          Shoes\n",
       "36          Music\n",
       "37           Baby\n",
       "38          Music\n",
       "39            NaN\n",
       "40         Beauty\n",
       "41          Games\n",
       "42        Grocery\n",
       "43            NaN\n",
       "44            NaN\n",
       "45         Garden\n",
       "46      Computers\n",
       "47          Games\n",
       "48            NaN\n",
       "49        Grocery\n",
       "50            NaN\n",
       "51            NaN\n",
       "52         Beauty\n",
       "53          Games\n",
       "54       Outdoors\n",
       "55         Beauty\n",
       "56         Movies\n",
       "57    Electronics\n",
       "58            NaN\n",
       "59         Beauty\n",
       "Name: category, dtype: object"
      ]
     },
     "execution_count": 145,
     "metadata": {},
     "output_type": "execute_result"
    }
   ],
   "source": [
    "data.category"
   ]
  },
  {
   "cell_type": "code",
   "execution_count": 146,
   "id": "offshore-browse",
   "metadata": {},
   "outputs": [],
   "source": [
    "data['category'].fillna(data.category.mode()[0],inplace=True)"
   ]
  },
  {
   "cell_type": "code",
   "execution_count": 147,
   "id": "educated-difference",
   "metadata": {},
   "outputs": [
    {
     "data": {
      "text/plain": [
       "0            Baby\n",
       "1          Beauty\n",
       "2       Computers\n",
       "3          Beauty\n",
       "4        Jewelery\n",
       "5           Music\n",
       "6          Beauty\n",
       "7          Beauty\n",
       "8     Electronics\n",
       "9           Games\n",
       "10       Outdoors\n",
       "11           Toys\n",
       "12    Electronics\n",
       "13       Outdoors\n",
       "14          Music\n",
       "15           Toys\n",
       "16       Clothing\n",
       "17          Shoes\n",
       "18          Books\n",
       "19          Books\n",
       "20      Computers\n",
       "21     Automotive\n",
       "22       Jewelery\n",
       "23         Health\n",
       "24       Clothing\n",
       "25     Automotive\n",
       "26           Home\n",
       "27           Baby\n",
       "28         Beauty\n",
       "29    Electronics\n",
       "30         Beauty\n",
       "31         Beauty\n",
       "32        Grocery\n",
       "33           Kids\n",
       "34       Outdoors\n",
       "35          Shoes\n",
       "36          Music\n",
       "37           Baby\n",
       "38          Music\n",
       "39         Beauty\n",
       "40         Beauty\n",
       "41          Games\n",
       "42        Grocery\n",
       "43         Beauty\n",
       "44         Beauty\n",
       "45         Garden\n",
       "46      Computers\n",
       "47          Games\n",
       "48         Beauty\n",
       "49        Grocery\n",
       "50         Beauty\n",
       "51         Beauty\n",
       "52         Beauty\n",
       "53          Games\n",
       "54       Outdoors\n",
       "55         Beauty\n",
       "56         Movies\n",
       "57    Electronics\n",
       "58         Beauty\n",
       "59         Beauty\n",
       "Name: category, dtype: object"
      ]
     },
     "execution_count": 147,
     "metadata": {},
     "output_type": "execute_result"
    }
   ],
   "source": [
    "data['category']"
   ]
  },
  {
   "cell_type": "code",
   "execution_count": 148,
   "id": "dietary-genome",
   "metadata": {},
   "outputs": [
    {
     "data": {
      "text/plain": [
       "customer_id                  0\n",
       "name                         0\n",
       "gender                       0\n",
       "age                          0\n",
       "annual income (lakhs)        8\n",
       "spending score               0\n",
       "items purchased (monthly)    0\n",
       "country                      0\n",
       "category                     0\n",
       "purchase type                0\n",
       "dtype: int64"
      ]
     },
     "execution_count": 148,
     "metadata": {},
     "output_type": "execute_result"
    }
   ],
   "source": [
    "data.isna().sum()"
   ]
  },
  {
   "cell_type": "code",
   "execution_count": 149,
   "id": "laden-beverage",
   "metadata": {},
   "outputs": [],
   "source": [
    "data.rename(columns = {'annual income (lakhs)':'income','items purchased (monthly)':'items', 'purchase type ':'type','spending score':'score'},inplace=True)"
   ]
  },
  {
   "cell_type": "code",
   "execution_count": 150,
   "id": "induced-control",
   "metadata": {},
   "outputs": [
    {
     "data": {
      "text/html": [
       "<div>\n",
       "<style scoped>\n",
       "    .dataframe tbody tr th:only-of-type {\n",
       "        vertical-align: middle;\n",
       "    }\n",
       "\n",
       "    .dataframe tbody tr th {\n",
       "        vertical-align: top;\n",
       "    }\n",
       "\n",
       "    .dataframe thead th {\n",
       "        text-align: right;\n",
       "    }\n",
       "</style>\n",
       "<table border=\"1\" class=\"dataframe\">\n",
       "  <thead>\n",
       "    <tr style=\"text-align: right;\">\n",
       "      <th></th>\n",
       "      <th>customer_id</th>\n",
       "      <th>name</th>\n",
       "      <th>gender</th>\n",
       "      <th>age</th>\n",
       "      <th>income</th>\n",
       "      <th>score</th>\n",
       "      <th>items</th>\n",
       "      <th>country</th>\n",
       "      <th>category</th>\n",
       "      <th>type</th>\n",
       "    </tr>\n",
       "  </thead>\n",
       "  <tbody>\n",
       "    <tr>\n",
       "      <th>0</th>\n",
       "      <td>1</td>\n",
       "      <td>Edith</td>\n",
       "      <td>Female</td>\n",
       "      <td>29.945455</td>\n",
       "      <td>40.9</td>\n",
       "      <td>27</td>\n",
       "      <td>62</td>\n",
       "      <td>Iran</td>\n",
       "      <td>Baby</td>\n",
       "      <td>offline</td>\n",
       "    </tr>\n",
       "    <tr>\n",
       "      <th>1</th>\n",
       "      <td>2</td>\n",
       "      <td>Sinclair</td>\n",
       "      <td>Male</td>\n",
       "      <td>53.000000</td>\n",
       "      <td>NaN</td>\n",
       "      <td>42</td>\n",
       "      <td>47</td>\n",
       "      <td>China</td>\n",
       "      <td>Beauty</td>\n",
       "      <td>online</td>\n",
       "    </tr>\n",
       "    <tr>\n",
       "      <th>2</th>\n",
       "      <td>3</td>\n",
       "      <td>Enoch</td>\n",
       "      <td>Male</td>\n",
       "      <td>22.000000</td>\n",
       "      <td>NaN</td>\n",
       "      <td>70</td>\n",
       "      <td>26</td>\n",
       "      <td>China</td>\n",
       "      <td>Computers</td>\n",
       "      <td>offline</td>\n",
       "    </tr>\n",
       "    <tr>\n",
       "      <th>3</th>\n",
       "      <td>4</td>\n",
       "      <td>Lorenzo</td>\n",
       "      <td>Male</td>\n",
       "      <td>9.000000</td>\n",
       "      <td>18.5</td>\n",
       "      <td>68</td>\n",
       "      <td>80</td>\n",
       "      <td>Russia</td>\n",
       "      <td>Beauty</td>\n",
       "      <td>online</td>\n",
       "    </tr>\n",
       "    <tr>\n",
       "      <th>4</th>\n",
       "      <td>5</td>\n",
       "      <td>Damian</td>\n",
       "      <td>Male</td>\n",
       "      <td>55.000000</td>\n",
       "      <td>18.4</td>\n",
       "      <td>69</td>\n",
       "      <td>89</td>\n",
       "      <td>Philippines</td>\n",
       "      <td>Jewelery</td>\n",
       "      <td>offline</td>\n",
       "    </tr>\n",
       "  </tbody>\n",
       "</table>\n",
       "</div>"
      ],
      "text/plain": [
       "   customer_id      name  gender        age  income  score  items  \\\n",
       "0            1     Edith  Female  29.945455    40.9     27     62   \n",
       "1            2  Sinclair    Male  53.000000     NaN     42     47   \n",
       "2            3     Enoch    Male  22.000000     NaN     70     26   \n",
       "3            4   Lorenzo    Male   9.000000    18.5     68     80   \n",
       "4            5    Damian    Male  55.000000    18.4     69     89   \n",
       "\n",
       "       country   category     type  \n",
       "0         Iran       Baby  offline  \n",
       "1        China     Beauty   online  \n",
       "2        China  Computers  offline  \n",
       "3       Russia     Beauty   online  \n",
       "4  Philippines   Jewelery  offline  "
      ]
     },
     "execution_count": 150,
     "metadata": {},
     "output_type": "execute_result"
    }
   ],
   "source": [
    "data.head()"
   ]
  },
  {
   "cell_type": "code",
   "execution_count": 151,
   "id": "least-hobby",
   "metadata": {},
   "outputs": [],
   "source": [
    "data.dropna(axis=0,inplace=True)"
   ]
  },
  {
   "cell_type": "code",
   "execution_count": 152,
   "id": "advisory-terminal",
   "metadata": {},
   "outputs": [
    {
     "data": {
      "text/html": [
       "<div>\n",
       "<style scoped>\n",
       "    .dataframe tbody tr th:only-of-type {\n",
       "        vertical-align: middle;\n",
       "    }\n",
       "\n",
       "    .dataframe tbody tr th {\n",
       "        vertical-align: top;\n",
       "    }\n",
       "\n",
       "    .dataframe thead th {\n",
       "        text-align: right;\n",
       "    }\n",
       "</style>\n",
       "<table border=\"1\" class=\"dataframe\">\n",
       "  <thead>\n",
       "    <tr style=\"text-align: right;\">\n",
       "      <th></th>\n",
       "      <th>customer_id</th>\n",
       "      <th>name</th>\n",
       "      <th>gender</th>\n",
       "      <th>age</th>\n",
       "      <th>income</th>\n",
       "      <th>score</th>\n",
       "      <th>items</th>\n",
       "      <th>country</th>\n",
       "      <th>category</th>\n",
       "      <th>type</th>\n",
       "    </tr>\n",
       "  </thead>\n",
       "  <tbody>\n",
       "    <tr>\n",
       "      <th>0</th>\n",
       "      <td>1</td>\n",
       "      <td>Edith</td>\n",
       "      <td>Female</td>\n",
       "      <td>29.945455</td>\n",
       "      <td>40.9</td>\n",
       "      <td>27</td>\n",
       "      <td>62</td>\n",
       "      <td>Iran</td>\n",
       "      <td>Baby</td>\n",
       "      <td>offline</td>\n",
       "    </tr>\n",
       "    <tr>\n",
       "      <th>3</th>\n",
       "      <td>4</td>\n",
       "      <td>Lorenzo</td>\n",
       "      <td>Male</td>\n",
       "      <td>9.000000</td>\n",
       "      <td>18.5</td>\n",
       "      <td>68</td>\n",
       "      <td>80</td>\n",
       "      <td>Russia</td>\n",
       "      <td>Beauty</td>\n",
       "      <td>online</td>\n",
       "    </tr>\n",
       "    <tr>\n",
       "      <th>4</th>\n",
       "      <td>5</td>\n",
       "      <td>Damian</td>\n",
       "      <td>Male</td>\n",
       "      <td>55.000000</td>\n",
       "      <td>18.4</td>\n",
       "      <td>69</td>\n",
       "      <td>89</td>\n",
       "      <td>Philippines</td>\n",
       "      <td>Jewelery</td>\n",
       "      <td>offline</td>\n",
       "    </tr>\n",
       "    <tr>\n",
       "      <th>5</th>\n",
       "      <td>6</td>\n",
       "      <td>Drona</td>\n",
       "      <td>Female</td>\n",
       "      <td>52.000000</td>\n",
       "      <td>54.8</td>\n",
       "      <td>35</td>\n",
       "      <td>98</td>\n",
       "      <td>Indonesia</td>\n",
       "      <td>Music</td>\n",
       "      <td>offline</td>\n",
       "    </tr>\n",
       "    <tr>\n",
       "      <th>6</th>\n",
       "      <td>7</td>\n",
       "      <td>Sylvester</td>\n",
       "      <td>Male</td>\n",
       "      <td>19.000000</td>\n",
       "      <td>21.4</td>\n",
       "      <td>52</td>\n",
       "      <td>1</td>\n",
       "      <td>China</td>\n",
       "      <td>Beauty</td>\n",
       "      <td>online</td>\n",
       "    </tr>\n",
       "  </tbody>\n",
       "</table>\n",
       "</div>"
      ],
      "text/plain": [
       "   customer_id       name  gender        age  income  score  items  \\\n",
       "0            1      Edith  Female  29.945455    40.9     27     62   \n",
       "3            4    Lorenzo    Male   9.000000    18.5     68     80   \n",
       "4            5     Damian    Male  55.000000    18.4     69     89   \n",
       "5            6      Drona  Female  52.000000    54.8     35     98   \n",
       "6            7  Sylvester    Male  19.000000    21.4     52      1   \n",
       "\n",
       "       country  category     type  \n",
       "0         Iran      Baby  offline  \n",
       "3       Russia    Beauty   online  \n",
       "4  Philippines  Jewelery  offline  \n",
       "5    Indonesia     Music  offline  \n",
       "6        China    Beauty   online  "
      ]
     },
     "execution_count": 152,
     "metadata": {},
     "output_type": "execute_result"
    }
   ],
   "source": [
    "data.head()"
   ]
  },
  {
   "cell_type": "code",
   "execution_count": 153,
   "id": "handed-universe",
   "metadata": {},
   "outputs": [
    {
     "data": {
      "text/html": [
       "<div>\n",
       "<style scoped>\n",
       "    .dataframe tbody tr th:only-of-type {\n",
       "        vertical-align: middle;\n",
       "    }\n",
       "\n",
       "    .dataframe tbody tr th {\n",
       "        vertical-align: top;\n",
       "    }\n",
       "\n",
       "    .dataframe thead th {\n",
       "        text-align: right;\n",
       "    }\n",
       "</style>\n",
       "<table border=\"1\" class=\"dataframe\">\n",
       "  <thead>\n",
       "    <tr style=\"text-align: right;\">\n",
       "      <th></th>\n",
       "      <th>customer_id</th>\n",
       "      <th>name</th>\n",
       "      <th>gender</th>\n",
       "      <th>age</th>\n",
       "      <th>income</th>\n",
       "      <th>score</th>\n",
       "      <th>items</th>\n",
       "      <th>country</th>\n",
       "      <th>category</th>\n",
       "      <th>type</th>\n",
       "    </tr>\n",
       "  </thead>\n",
       "  <tbody>\n",
       "    <tr>\n",
       "      <th>55</th>\n",
       "      <td>56</td>\n",
       "      <td>Annamarie</td>\n",
       "      <td>Male</td>\n",
       "      <td>36.000000</td>\n",
       "      <td>42.3</td>\n",
       "      <td>54</td>\n",
       "      <td>55</td>\n",
       "      <td>Poland</td>\n",
       "      <td>Beauty</td>\n",
       "      <td>offline</td>\n",
       "    </tr>\n",
       "    <tr>\n",
       "      <th>56</th>\n",
       "      <td>57</td>\n",
       "      <td>Bari</td>\n",
       "      <td>Female</td>\n",
       "      <td>22.000000</td>\n",
       "      <td>33.5</td>\n",
       "      <td>36</td>\n",
       "      <td>4</td>\n",
       "      <td>Ukraine</td>\n",
       "      <td>Movies</td>\n",
       "      <td>offline</td>\n",
       "    </tr>\n",
       "    <tr>\n",
       "      <th>57</th>\n",
       "      <td>58</td>\n",
       "      <td>Hersch</td>\n",
       "      <td>Male</td>\n",
       "      <td>0.000000</td>\n",
       "      <td>57.2</td>\n",
       "      <td>77</td>\n",
       "      <td>58</td>\n",
       "      <td>Chile</td>\n",
       "      <td>Electronics</td>\n",
       "      <td>offline</td>\n",
       "    </tr>\n",
       "    <tr>\n",
       "      <th>58</th>\n",
       "      <td>59</td>\n",
       "      <td>Brocky</td>\n",
       "      <td>Male</td>\n",
       "      <td>29.945455</td>\n",
       "      <td>17.3</td>\n",
       "      <td>34</td>\n",
       "      <td>34</td>\n",
       "      <td>China</td>\n",
       "      <td>Beauty</td>\n",
       "      <td>online</td>\n",
       "    </tr>\n",
       "    <tr>\n",
       "      <th>59</th>\n",
       "      <td>60</td>\n",
       "      <td>Erna</td>\n",
       "      <td>Female</td>\n",
       "      <td>56.000000</td>\n",
       "      <td>16.0</td>\n",
       "      <td>44</td>\n",
       "      <td>12</td>\n",
       "      <td>France</td>\n",
       "      <td>Beauty</td>\n",
       "      <td>offline</td>\n",
       "    </tr>\n",
       "  </tbody>\n",
       "</table>\n",
       "</div>"
      ],
      "text/plain": [
       "    customer_id       name  gender        age  income  score  items  country  \\\n",
       "55           56  Annamarie    Male  36.000000    42.3     54     55   Poland   \n",
       "56           57       Bari  Female  22.000000    33.5     36      4  Ukraine   \n",
       "57           58     Hersch    Male   0.000000    57.2     77     58    Chile   \n",
       "58           59     Brocky    Male  29.945455    17.3     34     34    China   \n",
       "59           60       Erna  Female  56.000000    16.0     44     12   France   \n",
       "\n",
       "       category     type  \n",
       "55       Beauty  offline  \n",
       "56       Movies  offline  \n",
       "57  Electronics  offline  \n",
       "58       Beauty   online  \n",
       "59       Beauty  offline  "
      ]
     },
     "execution_count": 153,
     "metadata": {},
     "output_type": "execute_result"
    }
   ],
   "source": [
    "data.tail()"
   ]
  },
  {
   "cell_type": "code",
   "execution_count": 154,
   "id": "unlimited-simple",
   "metadata": {},
   "outputs": [],
   "source": [
    "data['type'] = data['type'].map({'offline':1, 'online': 0})"
   ]
  },
  {
   "cell_type": "code",
   "execution_count": 155,
   "id": "exclusive-soundtrack",
   "metadata": {},
   "outputs": [
    {
     "data": {
      "text/html": [
       "<div>\n",
       "<style scoped>\n",
       "    .dataframe tbody tr th:only-of-type {\n",
       "        vertical-align: middle;\n",
       "    }\n",
       "\n",
       "    .dataframe tbody tr th {\n",
       "        vertical-align: top;\n",
       "    }\n",
       "\n",
       "    .dataframe thead th {\n",
       "        text-align: right;\n",
       "    }\n",
       "</style>\n",
       "<table border=\"1\" class=\"dataframe\">\n",
       "  <thead>\n",
       "    <tr style=\"text-align: right;\">\n",
       "      <th></th>\n",
       "      <th>customer_id</th>\n",
       "      <th>name</th>\n",
       "      <th>gender</th>\n",
       "      <th>age</th>\n",
       "      <th>income</th>\n",
       "      <th>score</th>\n",
       "      <th>items</th>\n",
       "      <th>country</th>\n",
       "      <th>category</th>\n",
       "      <th>type</th>\n",
       "    </tr>\n",
       "  </thead>\n",
       "  <tbody>\n",
       "    <tr>\n",
       "      <th>0</th>\n",
       "      <td>1</td>\n",
       "      <td>Edith</td>\n",
       "      <td>Female</td>\n",
       "      <td>29.945455</td>\n",
       "      <td>40.9</td>\n",
       "      <td>27</td>\n",
       "      <td>62</td>\n",
       "      <td>Iran</td>\n",
       "      <td>Baby</td>\n",
       "      <td>1</td>\n",
       "    </tr>\n",
       "    <tr>\n",
       "      <th>3</th>\n",
       "      <td>4</td>\n",
       "      <td>Lorenzo</td>\n",
       "      <td>Male</td>\n",
       "      <td>9.000000</td>\n",
       "      <td>18.5</td>\n",
       "      <td>68</td>\n",
       "      <td>80</td>\n",
       "      <td>Russia</td>\n",
       "      <td>Beauty</td>\n",
       "      <td>0</td>\n",
       "    </tr>\n",
       "    <tr>\n",
       "      <th>4</th>\n",
       "      <td>5</td>\n",
       "      <td>Damian</td>\n",
       "      <td>Male</td>\n",
       "      <td>55.000000</td>\n",
       "      <td>18.4</td>\n",
       "      <td>69</td>\n",
       "      <td>89</td>\n",
       "      <td>Philippines</td>\n",
       "      <td>Jewelery</td>\n",
       "      <td>1</td>\n",
       "    </tr>\n",
       "    <tr>\n",
       "      <th>5</th>\n",
       "      <td>6</td>\n",
       "      <td>Drona</td>\n",
       "      <td>Female</td>\n",
       "      <td>52.000000</td>\n",
       "      <td>54.8</td>\n",
       "      <td>35</td>\n",
       "      <td>98</td>\n",
       "      <td>Indonesia</td>\n",
       "      <td>Music</td>\n",
       "      <td>1</td>\n",
       "    </tr>\n",
       "    <tr>\n",
       "      <th>6</th>\n",
       "      <td>7</td>\n",
       "      <td>Sylvester</td>\n",
       "      <td>Male</td>\n",
       "      <td>19.000000</td>\n",
       "      <td>21.4</td>\n",
       "      <td>52</td>\n",
       "      <td>1</td>\n",
       "      <td>China</td>\n",
       "      <td>Beauty</td>\n",
       "      <td>0</td>\n",
       "    </tr>\n",
       "  </tbody>\n",
       "</table>\n",
       "</div>"
      ],
      "text/plain": [
       "   customer_id       name  gender        age  income  score  items  \\\n",
       "0            1      Edith  Female  29.945455    40.9     27     62   \n",
       "3            4    Lorenzo    Male   9.000000    18.5     68     80   \n",
       "4            5     Damian    Male  55.000000    18.4     69     89   \n",
       "5            6      Drona  Female  52.000000    54.8     35     98   \n",
       "6            7  Sylvester    Male  19.000000    21.4     52      1   \n",
       "\n",
       "       country  category  type  \n",
       "0         Iran      Baby     1  \n",
       "3       Russia    Beauty     0  \n",
       "4  Philippines  Jewelery     1  \n",
       "5    Indonesia     Music     1  \n",
       "6        China    Beauty     0  "
      ]
     },
     "execution_count": 155,
     "metadata": {},
     "output_type": "execute_result"
    }
   ],
   "source": [
    "data.head()"
   ]
  },
  {
   "cell_type": "code",
   "execution_count": 156,
   "id": "worth-detector",
   "metadata": {},
   "outputs": [],
   "source": [
    "from sklearn import preprocessing\n",
    "encoder = preprocessing.LabelEncoder()\n",
    "data[['category', 'gender']] = data[['category', 'gender']].apply(encoder.fit_transform)"
   ]
  },
  {
   "cell_type": "code",
   "execution_count": 157,
   "id": "expensive-liberty",
   "metadata": {},
   "outputs": [
    {
     "data": {
      "text/html": [
       "<div>\n",
       "<style scoped>\n",
       "    .dataframe tbody tr th:only-of-type {\n",
       "        vertical-align: middle;\n",
       "    }\n",
       "\n",
       "    .dataframe tbody tr th {\n",
       "        vertical-align: top;\n",
       "    }\n",
       "\n",
       "    .dataframe thead th {\n",
       "        text-align: right;\n",
       "    }\n",
       "</style>\n",
       "<table border=\"1\" class=\"dataframe\">\n",
       "  <thead>\n",
       "    <tr style=\"text-align: right;\">\n",
       "      <th></th>\n",
       "      <th>customer_id</th>\n",
       "      <th>name</th>\n",
       "      <th>gender</th>\n",
       "      <th>age</th>\n",
       "      <th>income</th>\n",
       "      <th>score</th>\n",
       "      <th>items</th>\n",
       "      <th>country</th>\n",
       "      <th>category</th>\n",
       "      <th>type</th>\n",
       "    </tr>\n",
       "  </thead>\n",
       "  <tbody>\n",
       "    <tr>\n",
       "      <th>0</th>\n",
       "      <td>1</td>\n",
       "      <td>Edith</td>\n",
       "      <td>0</td>\n",
       "      <td>29.945455</td>\n",
       "      <td>40.9</td>\n",
       "      <td>27</td>\n",
       "      <td>62</td>\n",
       "      <td>Iran</td>\n",
       "      <td>1</td>\n",
       "      <td>1</td>\n",
       "    </tr>\n",
       "    <tr>\n",
       "      <th>3</th>\n",
       "      <td>4</td>\n",
       "      <td>Lorenzo</td>\n",
       "      <td>1</td>\n",
       "      <td>9.000000</td>\n",
       "      <td>18.5</td>\n",
       "      <td>68</td>\n",
       "      <td>80</td>\n",
       "      <td>Russia</td>\n",
       "      <td>2</td>\n",
       "      <td>0</td>\n",
       "    </tr>\n",
       "    <tr>\n",
       "      <th>4</th>\n",
       "      <td>5</td>\n",
       "      <td>Damian</td>\n",
       "      <td>1</td>\n",
       "      <td>55.000000</td>\n",
       "      <td>18.4</td>\n",
       "      <td>69</td>\n",
       "      <td>89</td>\n",
       "      <td>Philippines</td>\n",
       "      <td>12</td>\n",
       "      <td>1</td>\n",
       "    </tr>\n",
       "    <tr>\n",
       "      <th>5</th>\n",
       "      <td>6</td>\n",
       "      <td>Drona</td>\n",
       "      <td>0</td>\n",
       "      <td>52.000000</td>\n",
       "      <td>54.8</td>\n",
       "      <td>35</td>\n",
       "      <td>98</td>\n",
       "      <td>Indonesia</td>\n",
       "      <td>15</td>\n",
       "      <td>1</td>\n",
       "    </tr>\n",
       "    <tr>\n",
       "      <th>6</th>\n",
       "      <td>7</td>\n",
       "      <td>Sylvester</td>\n",
       "      <td>1</td>\n",
       "      <td>19.000000</td>\n",
       "      <td>21.4</td>\n",
       "      <td>52</td>\n",
       "      <td>1</td>\n",
       "      <td>China</td>\n",
       "      <td>2</td>\n",
       "      <td>0</td>\n",
       "    </tr>\n",
       "  </tbody>\n",
       "</table>\n",
       "</div>"
      ],
      "text/plain": [
       "   customer_id       name  gender        age  income  score  items  \\\n",
       "0            1      Edith       0  29.945455    40.9     27     62   \n",
       "3            4    Lorenzo       1   9.000000    18.5     68     80   \n",
       "4            5     Damian       1  55.000000    18.4     69     89   \n",
       "5            6      Drona       0  52.000000    54.8     35     98   \n",
       "6            7  Sylvester       1  19.000000    21.4     52      1   \n",
       "\n",
       "       country  category  type  \n",
       "0         Iran         1     1  \n",
       "3       Russia         2     0  \n",
       "4  Philippines        12     1  \n",
       "5    Indonesia        15     1  \n",
       "6        China         2     0  "
      ]
     },
     "execution_count": 157,
     "metadata": {},
     "output_type": "execute_result"
    }
   ],
   "source": [
    "data.head()"
   ]
  },
  {
   "cell_type": "code",
   "execution_count": 158,
   "id": "jewish-access",
   "metadata": {},
   "outputs": [],
   "source": [
    "data['age'] = pd.cut(x = data['age'],labels=('child','adult','sc'), bins=(0,18,65,100), include_lowest=True)"
   ]
  },
  {
   "cell_type": "code",
   "execution_count": 159,
   "id": "biological-organ",
   "metadata": {},
   "outputs": [
    {
     "data": {
      "text/html": [
       "<div>\n",
       "<style scoped>\n",
       "    .dataframe tbody tr th:only-of-type {\n",
       "        vertical-align: middle;\n",
       "    }\n",
       "\n",
       "    .dataframe tbody tr th {\n",
       "        vertical-align: top;\n",
       "    }\n",
       "\n",
       "    .dataframe thead th {\n",
       "        text-align: right;\n",
       "    }\n",
       "</style>\n",
       "<table border=\"1\" class=\"dataframe\">\n",
       "  <thead>\n",
       "    <tr style=\"text-align: right;\">\n",
       "      <th></th>\n",
       "      <th>customer_id</th>\n",
       "      <th>name</th>\n",
       "      <th>gender</th>\n",
       "      <th>age</th>\n",
       "      <th>income</th>\n",
       "      <th>score</th>\n",
       "      <th>items</th>\n",
       "      <th>country</th>\n",
       "      <th>category</th>\n",
       "      <th>type</th>\n",
       "    </tr>\n",
       "  </thead>\n",
       "  <tbody>\n",
       "    <tr>\n",
       "      <th>0</th>\n",
       "      <td>1</td>\n",
       "      <td>Edith</td>\n",
       "      <td>0</td>\n",
       "      <td>adult</td>\n",
       "      <td>40.9</td>\n",
       "      <td>27</td>\n",
       "      <td>62</td>\n",
       "      <td>Iran</td>\n",
       "      <td>1</td>\n",
       "      <td>1</td>\n",
       "    </tr>\n",
       "    <tr>\n",
       "      <th>3</th>\n",
       "      <td>4</td>\n",
       "      <td>Lorenzo</td>\n",
       "      <td>1</td>\n",
       "      <td>child</td>\n",
       "      <td>18.5</td>\n",
       "      <td>68</td>\n",
       "      <td>80</td>\n",
       "      <td>Russia</td>\n",
       "      <td>2</td>\n",
       "      <td>0</td>\n",
       "    </tr>\n",
       "    <tr>\n",
       "      <th>4</th>\n",
       "      <td>5</td>\n",
       "      <td>Damian</td>\n",
       "      <td>1</td>\n",
       "      <td>adult</td>\n",
       "      <td>18.4</td>\n",
       "      <td>69</td>\n",
       "      <td>89</td>\n",
       "      <td>Philippines</td>\n",
       "      <td>12</td>\n",
       "      <td>1</td>\n",
       "    </tr>\n",
       "    <tr>\n",
       "      <th>5</th>\n",
       "      <td>6</td>\n",
       "      <td>Drona</td>\n",
       "      <td>0</td>\n",
       "      <td>adult</td>\n",
       "      <td>54.8</td>\n",
       "      <td>35</td>\n",
       "      <td>98</td>\n",
       "      <td>Indonesia</td>\n",
       "      <td>15</td>\n",
       "      <td>1</td>\n",
       "    </tr>\n",
       "    <tr>\n",
       "      <th>6</th>\n",
       "      <td>7</td>\n",
       "      <td>Sylvester</td>\n",
       "      <td>1</td>\n",
       "      <td>adult</td>\n",
       "      <td>21.4</td>\n",
       "      <td>52</td>\n",
       "      <td>1</td>\n",
       "      <td>China</td>\n",
       "      <td>2</td>\n",
       "      <td>0</td>\n",
       "    </tr>\n",
       "  </tbody>\n",
       "</table>\n",
       "</div>"
      ],
      "text/plain": [
       "   customer_id       name  gender    age  income  score  items      country  \\\n",
       "0            1      Edith       0  adult    40.9     27     62         Iran   \n",
       "3            4    Lorenzo       1  child    18.5     68     80       Russia   \n",
       "4            5     Damian       1  adult    18.4     69     89  Philippines   \n",
       "5            6      Drona       0  adult    54.8     35     98    Indonesia   \n",
       "6            7  Sylvester       1  adult    21.4     52      1        China   \n",
       "\n",
       "   category  type  \n",
       "0         1     1  \n",
       "3         2     0  \n",
       "4        12     1  \n",
       "5        15     1  \n",
       "6         2     0  "
      ]
     },
     "execution_count": 159,
     "metadata": {},
     "output_type": "execute_result"
    }
   ],
   "source": [
    "data.head()"
   ]
  },
  {
   "cell_type": "code",
   "execution_count": 160,
   "id": "starting-mississippi",
   "metadata": {},
   "outputs": [
    {
     "data": {
      "text/plain": [
       "<AxesSubplot:xlabel='score', ylabel='Count'>"
      ]
     },
     "execution_count": 160,
     "metadata": {},
     "output_type": "execute_result"
    },
    {
     "data": {
      "image/png": "[encoded data removed]",
      "text/plain": [
       "<Figure size 432x288 with 1 Axes>"
      ]
     },
     "metadata": {
      "needs_background": "light"
     },
     "output_type": "display_data"
    }
   ],
   "source": [
    "sns.histplot(data=data, x='score')"
   ]
  },
  {
   "cell_type": "code",
   "execution_count": 161,
   "id": "liquid-vermont",
   "metadata": {},
   "outputs": [
    {
     "data": {
      "text/plain": [
       "<AxesSubplot:xlabel='items'>"
      ]
     },
     "execution_count": 161,
     "metadata": {},
     "output_type": "execute_result"
    },
    {
     "data": {
      "image/png": "[encoded data removed]",
      "text/plain": [
       "<Figure size 432x288 with 1 Axes>"
      ]
     },
     "metadata": {
      "needs_background": "light"
     },
     "output_type": "display_data"
    }
   ],
   "source": [
    "sns.boxplot(data=data, x='items')"
   ]
  },
  {
   "cell_type": "code",
   "execution_count": 162,
   "id": "continuous-theta",
   "metadata": {},
   "outputs": [
    {
     "data": {
      "text/plain": [
       "<AxesSubplot:xlabel='income', ylabel='items'>"
      ]
     },
     "execution_count": 162,
     "metadata": {},
     "output_type": "execute_result"
    },
    {
     "data": {
      "image/png": "[encoded data removed]",
      "text/plain": [
       "<Figure size 432x288 with 1 Axes>"
      ]
     },
     "metadata": {
      "needs_background": "light"
     },
     "output_type": "display_data"
    }
   ],
   "source": [
    "sns.scatterplot(data=data, x='income',y='items', hue='gender')"
   ]
  },
  {
   "cell_type": "code",
   "execution_count": 163,
   "id": "european-church",
   "metadata": {},
   "outputs": [
    {
     "data": {
      "text/plain": [
       "<AxesSubplot:xlabel='age', ylabel='items'>"
      ]
     },
     "execution_count": 163,
     "metadata": {},
     "output_type": "execute_result"
    },
    {
     "data": {
      "image/png": "[encoded data removed]",
      "text/plain": [
       "<Figure size 432x288 with 1 Axes>"
      ]
     },
     "metadata": {
      "needs_background": "light"
     },
     "output_type": "display_data"
    }
   ],
   "source": [
    "sns.barplot(data=data, x='age', y='items')"
   ]
  },
  {
   "cell_type": "code",
   "execution_count": 166,
   "id": "optimum-cliff",
   "metadata": {},
   "outputs": [],
   "source": [
    "from sklearn import preprocessing\n",
    "scaler = preprocessing.MinMaxScaler()\n",
    "data[['income', 'score']] = scaler.fit_transform(data[['income', 'score']])"
   ]
  },
  {
   "cell_type": "code",
   "execution_count": 167,
   "id": "normal-employee",
   "metadata": {},
   "outputs": [
    {
     "data": {
      "text/html": [
       "<div>\n",
       "<style scoped>\n",
       "    .dataframe tbody tr th:only-of-type {\n",
       "        vertical-align: middle;\n",
       "    }\n",
       "\n",
       "    .dataframe tbody tr th {\n",
       "        vertical-align: top;\n",
       "    }\n",
       "\n",
       "    .dataframe thead th {\n",
       "        text-align: right;\n",
       "    }\n",
       "</style>\n",
       "<table border=\"1\" class=\"dataframe\">\n",
       "  <thead>\n",
       "    <tr style=\"text-align: right;\">\n",
       "      <th></th>\n",
       "      <th>customer_id</th>\n",
       "      <th>name</th>\n",
       "      <th>gender</th>\n",
       "      <th>age</th>\n",
       "      <th>income</th>\n",
       "      <th>score</th>\n",
       "      <th>items</th>\n",
       "      <th>country</th>\n",
       "      <th>category</th>\n",
       "      <th>type</th>\n",
       "    </tr>\n",
       "  </thead>\n",
       "  <tbody>\n",
       "    <tr>\n",
       "      <th>0</th>\n",
       "      <td>1</td>\n",
       "      <td>Edith</td>\n",
       "      <td>0</td>\n",
       "      <td>adult</td>\n",
       "      <td>0.608607</td>\n",
       "      <td>0.255102</td>\n",
       "      <td>62</td>\n",
       "      <td>Iran</td>\n",
       "      <td>1</td>\n",
       "      <td>1</td>\n",
       "    </tr>\n",
       "    <tr>\n",
       "      <th>3</th>\n",
       "      <td>4</td>\n",
       "      <td>Lorenzo</td>\n",
       "      <td>1</td>\n",
       "      <td>child</td>\n",
       "      <td>0.149590</td>\n",
       "      <td>0.673469</td>\n",
       "      <td>80</td>\n",
       "      <td>Russia</td>\n",
       "      <td>2</td>\n",
       "      <td>0</td>\n",
       "    </tr>\n",
       "    <tr>\n",
       "      <th>4</th>\n",
       "      <td>5</td>\n",
       "      <td>Damian</td>\n",
       "      <td>1</td>\n",
       "      <td>adult</td>\n",
       "      <td>0.147541</td>\n",
       "      <td>0.683673</td>\n",
       "      <td>89</td>\n",
       "      <td>Philippines</td>\n",
       "      <td>12</td>\n",
       "      <td>1</td>\n",
       "    </tr>\n",
       "    <tr>\n",
       "      <th>5</th>\n",
       "      <td>6</td>\n",
       "      <td>Drona</td>\n",
       "      <td>0</td>\n",
       "      <td>adult</td>\n",
       "      <td>0.893443</td>\n",
       "      <td>0.336735</td>\n",
       "      <td>98</td>\n",
       "      <td>Indonesia</td>\n",
       "      <td>15</td>\n",
       "      <td>1</td>\n",
       "    </tr>\n",
       "    <tr>\n",
       "      <th>6</th>\n",
       "      <td>7</td>\n",
       "      <td>Sylvester</td>\n",
       "      <td>1</td>\n",
       "      <td>adult</td>\n",
       "      <td>0.209016</td>\n",
       "      <td>0.510204</td>\n",
       "      <td>1</td>\n",
       "      <td>China</td>\n",
       "      <td>2</td>\n",
       "      <td>0</td>\n",
       "    </tr>\n",
       "  </tbody>\n",
       "</table>\n",
       "</div>"
      ],
      "text/plain": [
       "   customer_id       name  gender    age    income     score  items  \\\n",
       "0            1      Edith       0  adult  0.608607  0.255102     62   \n",
       "3            4    Lorenzo       1  child  0.149590  0.673469     80   \n",
       "4            5     Damian       1  adult  0.147541  0.683673     89   \n",
       "5            6      Drona       0  adult  0.893443  0.336735     98   \n",
       "6            7  Sylvester       1  adult  0.209016  0.510204      1   \n",
       "\n",
       "       country  category  type  \n",
       "0         Iran         1     1  \n",
       "3       Russia         2     0  \n",
       "4  Philippines        12     1  \n",
       "5    Indonesia        15     1  \n",
       "6        China         2     0  "
      ]
     },
     "execution_count": 167,
     "metadata": {},
     "output_type": "execute_result"
    }
   ],
   "source": [
    "data.head()"
   ]
  },
  {
   "cell_type": "code",
   "execution_count": 169,
   "id": "european-galaxy",
   "metadata": {},
   "outputs": [],
   "source": [
    "data.drop(columns=('customer_id'),axis=1,inplace=True)"
   ]
  },
  {
   "cell_type": "code",
   "execution_count": 170,
   "id": "modified-bryan",
   "metadata": {},
   "outputs": [
    {
     "data": {
      "text/html": [
       "<div>\n",
       "<style scoped>\n",
       "    .dataframe tbody tr th:only-of-type {\n",
       "        vertical-align: middle;\n",
       "    }\n",
       "\n",
       "    .dataframe tbody tr th {\n",
       "        vertical-align: top;\n",
       "    }\n",
       "\n",
       "    .dataframe thead th {\n",
       "        text-align: right;\n",
       "    }\n",
       "</style>\n",
       "<table border=\"1\" class=\"dataframe\">\n",
       "  <thead>\n",
       "    <tr style=\"text-align: right;\">\n",
       "      <th></th>\n",
       "      <th>name</th>\n",
       "      <th>gender</th>\n",
       "      <th>age</th>\n",
       "      <th>income</th>\n",
       "      <th>score</th>\n",
       "      <th>items</th>\n",
       "      <th>country</th>\n",
       "      <th>category</th>\n",
       "      <th>type</th>\n",
       "    </tr>\n",
       "  </thead>\n",
       "  <tbody>\n",
       "    <tr>\n",
       "      <th>0</th>\n",
       "      <td>Edith</td>\n",
       "      <td>0</td>\n",
       "      <td>adult</td>\n",
       "      <td>0.608607</td>\n",
       "      <td>0.255102</td>\n",
       "      <td>62</td>\n",
       "      <td>Iran</td>\n",
       "      <td>1</td>\n",
       "      <td>1</td>\n",
       "    </tr>\n",
       "    <tr>\n",
       "      <th>3</th>\n",
       "      <td>Lorenzo</td>\n",
       "      <td>1</td>\n",
       "      <td>child</td>\n",
       "      <td>0.149590</td>\n",
       "      <td>0.673469</td>\n",
       "      <td>80</td>\n",
       "      <td>Russia</td>\n",
       "      <td>2</td>\n",
       "      <td>0</td>\n",
       "    </tr>\n",
       "    <tr>\n",
       "      <th>4</th>\n",
       "      <td>Damian</td>\n",
       "      <td>1</td>\n",
       "      <td>adult</td>\n",
       "      <td>0.147541</td>\n",
       "      <td>0.683673</td>\n",
       "      <td>89</td>\n",
       "      <td>Philippines</td>\n",
       "      <td>12</td>\n",
       "      <td>1</td>\n",
       "    </tr>\n",
       "    <tr>\n",
       "      <th>5</th>\n",
       "      <td>Drona</td>\n",
       "      <td>0</td>\n",
       "      <td>adult</td>\n",
       "      <td>0.893443</td>\n",
       "      <td>0.336735</td>\n",
       "      <td>98</td>\n",
       "      <td>Indonesia</td>\n",
       "      <td>15</td>\n",
       "      <td>1</td>\n",
       "    </tr>\n",
       "    <tr>\n",
       "      <th>6</th>\n",
       "      <td>Sylvester</td>\n",
       "      <td>1</td>\n",
       "      <td>adult</td>\n",
       "      <td>0.209016</td>\n",
       "      <td>0.510204</td>\n",
       "      <td>1</td>\n",
       "      <td>China</td>\n",
       "      <td>2</td>\n",
       "      <td>0</td>\n",
       "    </tr>\n",
       "  </tbody>\n",
       "</table>\n",
       "</div>"
      ],
      "text/plain": [
       "        name  gender    age    income     score  items      country  category  \\\n",
       "0      Edith       0  adult  0.608607  0.255102     62         Iran         1   \n",
       "3    Lorenzo       1  child  0.149590  0.673469     80       Russia         2   \n",
       "4     Damian       1  adult  0.147541  0.683673     89  Philippines        12   \n",
       "5      Drona       0  adult  0.893443  0.336735     98    Indonesia        15   \n",
       "6  Sylvester       1  adult  0.209016  0.510204      1        China         2   \n",
       "\n",
       "   type  \n",
       "0     1  \n",
       "3     0  \n",
       "4     1  \n",
       "5     1  \n",
       "6     0  "
      ]
     },
     "execution_count": 170,
     "metadata": {},
     "output_type": "execute_result"
    }
   ],
   "source": [
    "data.head()"
   ]
  },
  {
   "cell_type": "code",
   "execution_count": 172,
   "id": "prescription-wonder",
   "metadata": {},
   "outputs": [],
   "source": [
    "transaction_data = pd.read_csv('association_analysis.csv')"
   ]
  },
  {
   "cell_type": "code",
   "execution_count": 188,
   "id": "raising-senegal",
   "metadata": {},
   "outputs": [],
   "source": [
    "transaction_data.drop(columns=['tid'],axis=1,inplace=True)"
   ]
  },
  {
   "cell_type": "code",
   "execution_count": 189,
   "id": "photographic-timber",
   "metadata": {},
   "outputs": [
    {
     "data": {
      "text/html": [
       "<div>\n",
       "<style scoped>\n",
       "    .dataframe tbody tr th:only-of-type {\n",
       "        vertical-align: middle;\n",
       "    }\n",
       "\n",
       "    .dataframe tbody tr th {\n",
       "        vertical-align: top;\n",
       "    }\n",
       "\n",
       "    .dataframe thead th {\n",
       "        text-align: right;\n",
       "    }\n",
       "</style>\n",
       "<table border=\"1\" class=\"dataframe\">\n",
       "  <thead>\n",
       "    <tr style=\"text-align: right;\">\n",
       "      <th></th>\n",
       "      <th>onion</th>\n",
       "      <th>tomato</th>\n",
       "      <th>potato</th>\n",
       "      <th>bottleguard</th>\n",
       "      <th>beans</th>\n",
       "    </tr>\n",
       "  </thead>\n",
       "  <tbody>\n",
       "    <tr>\n",
       "      <th>0</th>\n",
       "      <td>1</td>\n",
       "      <td>0</td>\n",
       "      <td>1</td>\n",
       "      <td>0</td>\n",
       "      <td>0</td>\n",
       "    </tr>\n",
       "    <tr>\n",
       "      <th>1</th>\n",
       "      <td>1</td>\n",
       "      <td>0</td>\n",
       "      <td>0</td>\n",
       "      <td>1</td>\n",
       "      <td>1</td>\n",
       "    </tr>\n",
       "    <tr>\n",
       "      <th>2</th>\n",
       "      <td>0</td>\n",
       "      <td>0</td>\n",
       "      <td>1</td>\n",
       "      <td>0</td>\n",
       "      <td>0</td>\n",
       "    </tr>\n",
       "    <tr>\n",
       "      <th>3</th>\n",
       "      <td>0</td>\n",
       "      <td>1</td>\n",
       "      <td>1</td>\n",
       "      <td>1</td>\n",
       "      <td>1</td>\n",
       "    </tr>\n",
       "    <tr>\n",
       "      <th>4</th>\n",
       "      <td>1</td>\n",
       "      <td>1</td>\n",
       "      <td>1</td>\n",
       "      <td>0</td>\n",
       "      <td>0</td>\n",
       "    </tr>\n",
       "  </tbody>\n",
       "</table>\n",
       "</div>"
      ],
      "text/plain": [
       "   onion  tomato  potato  bottleguard  beans\n",
       "0      1       0       1            0      0\n",
       "1      1       0       0            1      1\n",
       "2      0       0       1            0      0\n",
       "3      0       1       1            1      1\n",
       "4      1       1       1            0      0"
      ]
     },
     "execution_count": 189,
     "metadata": {},
     "output_type": "execute_result"
    }
   ],
   "source": [
    "transaction_data.head()"
   ]
  },
  {
   "cell_type": "code",
   "execution_count": 205,
   "id": "brave-obligation",
   "metadata": {},
   "outputs": [],
   "source": [
    "records = []\n",
    "for i in range(len(transaction_data)):\n",
    "    record = []\n",
    "    for j in range(len(transaction_data.columns)):\n",
    "        if transaction_data.values[i,j]:\n",
    "            record.append(transaction_data.columns[j])\n",
    "    records.append(record)"
   ]
  },
  {
   "cell_type": "code",
   "execution_count": 206,
   "id": "headed-collapse",
   "metadata": {},
   "outputs": [
    {
     "data": {
      "text/plain": [
       "[['onion', 'potato'],\n",
       " ['onion', 'bottleguard', 'beans'],\n",
       " ['potato'],\n",
       " ['tomato', 'potato', 'bottleguard', 'beans'],\n",
       " ['onion', 'tomato', 'potato'],\n",
       " ['tomato', 'bottleguard', 'beans'],\n",
       " ['tomato'],\n",
       " ['onion', 'potato'],\n",
       " ['tomato', 'potato', 'beans'],\n",
       " ['tomato'],\n",
       " ['onion', 'tomato'],\n",
       " ['onion', 'tomato'],\n",
       " ['onion', 'beans'],\n",
       " ['tomato', 'bottleguard', 'beans'],\n",
       " ['onion', 'potato', 'bottleguard'],\n",
       " ['tomato', 'bottleguard', 'beans'],\n",
       " ['bottleguard'],\n",
       " ['tomato', 'bottleguard', 'beans'],\n",
       " ['onion', 'beans'],\n",
       " ['onion', 'tomato', 'beans'],\n",
       " ['onion', 'tomato', 'potato', 'bottleguard'],\n",
       " ['onion', 'tomato', 'potato', 'beans'],\n",
       " ['potato', 'bottleguard'],\n",
       " ['onion'],\n",
       " ['onion', 'tomato', 'potato', 'bottleguard', 'beans'],\n",
       " ['onion', 'tomato'],\n",
       " ['tomato', 'potato', 'bottleguard', 'beans'],\n",
       " ['onion', 'bottleguard'],\n",
       " ['onion', 'potato', 'bottleguard', 'beans'],\n",
       " ['tomato', 'beans'],\n",
       " ['onion', 'tomato', 'potato', 'bottleguard', 'beans'],\n",
       " ['potato'],\n",
       " ['tomato', 'potato'],\n",
       " ['potato', 'beans'],\n",
       " ['potato', 'bottleguard'],\n",
       " ['onion', 'tomato', 'potato'],\n",
       " ['onion', 'tomato', 'potato', 'bottleguard'],\n",
       " ['beans'],\n",
       " ['onion', 'potato', 'beans'],\n",
       " ['onion', 'bottleguard', 'beans'],\n",
       " ['onion', 'tomato', 'beans'],\n",
       " ['tomato', 'potato'],\n",
       " ['potato'],\n",
       " ['beans'],\n",
       " ['bottleguard'],\n",
       " ['tomato', 'bottleguard', 'beans'],\n",
       " ['onion', 'tomato', 'potato', 'beans'],\n",
       " ['bottleguard'],\n",
       " ['tomato', 'potato', 'bottleguard'],\n",
       " ['onion', 'tomato', 'bottleguard'],\n",
       " ['onion', 'tomato', 'potato', 'bottleguard', 'beans']]"
      ]
     },
     "execution_count": 206,
     "metadata": {},
     "output_type": "execute_result"
    }
   ],
   "source": [
    "records"
   ]
  },
  {
   "cell_type": "code",
   "execution_count": 207,
   "id": "generous-creation",
   "metadata": {},
   "outputs": [
    {
     "name": "stdout",
     "output_type": "stream",
     "text": [
      "Requirement already satisfied: apyori in c:\\users\\nimish bongale\\appdata\\local\\programs\\python\\python39\\lib\\site-packages (1.1.2)\n"
     ]
    },
    {
     "name": "stderr",
     "output_type": "stream",
     "text": [
      "WARNING: You are using pip version 20.2.3; however, version 20.3.3 is available.\n",
      "You should consider upgrading via the 'c:\\users\\nimish bongale\\appdata\\local\\programs\\python\\python39\\python.exe -m pip install --upgrade pip' command.\n"
     ]
    }
   ],
   "source": [
    "!pip install apyori"
   ]
  },
  {
   "cell_type": "code",
   "execution_count": 238,
   "id": "hungarian-conspiracy",
   "metadata": {},
   "outputs": [],
   "source": [
    "from apyori import apriori\n",
    "rules = apriori(records, min_support = 0.03, min_confidence = 0.7)"
   ]
  },
  {
   "cell_type": "code",
   "execution_count": 239,
   "id": "attractive-chance",
   "metadata": {},
   "outputs": [],
   "source": [
    "rules = list(rules)"
   ]
  },
  {
   "cell_type": "code",
   "execution_count": 244,
   "id": "temporal-shopper",
   "metadata": {},
   "outputs": [
    {
     "name": "stdout",
     "output_type": "stream",
     "text": [
      "Rule :  frozenset({'bottleguard', 'beans', 'tomato'}) Support : 0.19607843137254902 Confidence :  0.7692307692307693\n",
      "Rule :  frozenset({'potato', 'beans', 'tomato'}) Support : 0.1568627450980392 Confidence :  0.7272727272727272\n",
      "Rule :  frozenset({'bottleguard', 'potato', 'beans', 'tomato'}) Support : 0.09803921568627451 Confidence :  0.8333333333333334\n",
      "Rule :  frozenset({'onion', 'potato', 'beans', 'tomato'}) Support : 0.09803921568627451 Confidence :  0.7142857142857142\n",
      "Rule :  frozenset({'bottleguard', 'onion', 'potato', 'tomato'}) Support : 0.09803921568627451 Confidence :  0.7142857142857142\n",
      "Rule :  frozenset({'onion', 'tomato', 'bottleguard', 'potato', 'beans'}) Support : 0.058823529411764705 Confidence :  0.75\n"
     ]
    }
   ],
   "source": [
    "for rule in rules:\n",
    "    print(\"Rule : \", rule[0], \"Support :\", rule[1], \"Confidence : \", rule[2][0][2])"
   ]
  },
  {
   "cell_type": "code",
   "execution_count": 241,
   "id": "textile-excitement",
   "metadata": {},
   "outputs": [
    {
     "name": "stdout",
     "output_type": "stream",
     "text": [
      "Requirement already satisfied: pyfpgrowth in c:\\users\\nimish bongale\\appdata\\local\\programs\\python\\python39\\lib\\site-packages (1.0)\n"
     ]
    },
    {
     "name": "stderr",
     "output_type": "stream",
     "text": [
      "WARNING: You are using pip version 20.2.3; however, version 20.3.3 is available.\n",
      "You should consider upgrading via the 'c:\\users\\nimish bongale\\appdata\\local\\programs\\python\\python39\\python.exe -m pip install --upgrade pip' command.\n"
     ]
    }
   ],
   "source": [
    "!pip install pyfpgrowth"
   ]
  },
  {
   "cell_type": "code",
   "execution_count": 245,
   "id": "linear-calvin",
   "metadata": {},
   "outputs": [],
   "source": [
    "import pyfpgrowth\n",
    "itemsets = pyfpgrowth.find_frequent_patterns(records, 0.03)"
   ]
  },
  {
   "cell_type": "code",
   "execution_count": 246,
   "id": "consecutive-fraud",
   "metadata": {},
   "outputs": [
    {
     "data": {
      "text/plain": [
       "{('beans', 'bottleguard', 'onion'): 6,\n",
       " ('beans', 'bottleguard', 'onion', 'potato'): 4,\n",
       " ('bottleguard', 'onion', 'tomato'): 6,\n",
       " ('bottleguard', 'onion', 'potato', 'tomato'): 5,\n",
       " ('beans', 'bottleguard', 'onion', 'tomato'): 3,\n",
       " ('beans', 'bottleguard', 'onion', 'potato', 'tomato'): 3,\n",
       " ('bottleguard', 'onion', 'potato'): 7,\n",
       " ('beans', 'bottleguard', 'potato'): 6,\n",
       " ('beans', 'bottleguard', 'potato', 'tomato'): 5,\n",
       " ('bottleguard', 'potato', 'tomato'): 8,\n",
       " ('beans', 'bottleguard'): 13,\n",
       " ('beans', 'bottleguard', 'tomato'): 10,\n",
       " ('bottleguard', 'tomato'): 14,\n",
       " ('beans', 'onion', 'potato'): 7,\n",
       " ('beans', 'onion', 'potato', 'tomato'): 5,\n",
       " ('beans', 'potato', 'tomato'): 8,\n",
       " ('beans', 'onion'): 13,\n",
       " ('beans', 'onion', 'tomato'): 7,\n",
       " ('beans', 'tomato'): 16,\n",
       " ('onion',): 26,\n",
       " ('onion', 'tomato'): 15,\n",
       " ('onion', 'potato'): 14,\n",
       " ('onion', 'potato', 'tomato'): 9,\n",
       " ('potato', 'tomato'): 15,\n",
       " ('tomato',): 29}"
      ]
     },
     "execution_count": 246,
     "metadata": {},
     "output_type": "execute_result"
    }
   ],
   "source": [
    "itemsets"
   ]
  },
  {
   "cell_type": "code",
   "execution_count": 247,
   "id": "transparent-candy",
   "metadata": {},
   "outputs": [
    {
     "data": {
      "text/plain": [
       "{('bottleguard', 'onion', 'potato'): (('tomato',), 0.7142857142857143),\n",
       " ('bottleguard', 'onion', 'tomato'): (('potato',), 0.8333333333333334),\n",
       " ('beans', 'bottleguard', 'onion', 'potato'): (('tomato',), 0.75),\n",
       " ('beans', 'bottleguard', 'onion', 'tomato'): (('potato',), 1.0),\n",
       " ('beans', 'bottleguard', 'potato'): (('tomato',), 0.8333333333333334),\n",
       " ('beans', 'bottleguard'): (('tomato',), 0.7692307692307693),\n",
       " ('bottleguard', 'tomato'): (('beans',), 0.7142857142857143),\n",
       " ('beans', 'onion', 'potato'): (('tomato',), 0.7142857142857143),\n",
       " ('beans', 'onion', 'tomato'): (('potato',), 0.7142857142857143)}"
      ]
     },
     "execution_count": 247,
     "metadata": {},
     "output_type": "execute_result"
    }
   ],
   "source": [
    "pyfpgrowth.generate_association_rules(itemsets, 0.7)"
   ]
  },
  {
   "cell_type": "code",
   "execution_count": 260,
   "id": "liable-bikini",
   "metadata": {},
   "outputs": [],
   "source": [
    "from sklearn.model_selection import train_test_split\n",
    "features = data[['gender','income']]\n",
    "target = data['type']\n",
    "x_train, x_test, y_train, y_test = train_test_split(features, target, random_state=0, test_size = 0.3)"
   ]
  },
  {
   "cell_type": "code",
   "execution_count": 261,
   "id": "diverse-arlington",
   "metadata": {},
   "outputs": [
    {
     "data": {
      "text/plain": [
       "0.75"
      ]
     },
     "execution_count": 261,
     "metadata": {},
     "output_type": "execute_result"
    }
   ],
   "source": [
    "from sklearn.tree import DecisionTreeClassifier\n",
    "\n",
    "model =  DecisionTreeClassifier()\n",
    "model.fit(x_train, y_train)\n",
    "pred = model.predict(x_test)\n",
    "model.score(x_test, y_test)"
   ]
  },
  {
   "cell_type": "code",
   "execution_count": 263,
   "id": "herbal-facility",
   "metadata": {},
   "outputs": [
    {
     "data": {
      "text/plain": [
       "array([[8, 0],\n",
       "       [4, 4]], dtype=int64)"
      ]
     },
     "execution_count": 263,
     "metadata": {},
     "output_type": "execute_result"
    }
   ],
   "source": [
    "from sklearn import metrics\n",
    "metrics.confusion_matrix(y_test, pred)"
   ]
  },
  {
   "cell_type": "code",
   "execution_count": 265,
   "id": "fiscal-introduction",
   "metadata": {},
   "outputs": [
    {
     "data": {
      "text/plain": [
       "'              precision    recall  f1-score   support\\n\\n           0       0.67      1.00      0.80         8\\n           1       1.00      0.50      0.67         8\\n\\n    accuracy                           0.75        16\\n   macro avg       0.83      0.75      0.73        16\\nweighted avg       0.83      0.75      0.73        16\\n'"
      ]
     },
     "execution_count": 265,
     "metadata": {},
     "output_type": "execute_result"
    }
   ],
   "source": [
    "metrics.classification_report(y_test, pred)"
   ]
  },
  {
   "cell_type": "code",
   "execution_count": 268,
   "id": "liked-event",
   "metadata": {},
   "outputs": [],
   "source": [
    "roc = metrics.roc_curve(y_test,pred)"
   ]
  },
  {
   "cell_type": "code",
   "execution_count": 269,
   "id": "communist-azerbaijan",
   "metadata": {},
   "outputs": [
    {
     "data": {
      "text/plain": [
       "<AxesSubplot:>"
      ]
     },
     "execution_count": 269,
     "metadata": {},
     "output_type": "execute_result"
    },
    {
     "data": {
      "image/png": "[encoded data removed]",
      "text/plain": [
       "<Figure size 432x288 with 1 Axes>"
      ]
     },
     "metadata": {
      "needs_background": "light"
     },
     "output_type": "display_data"
    }
   ],
   "source": [
    "sns.lineplot(x=roc[0],y=roc[1])"
   ]
  },
  {
   "cell_type": "code",
   "execution_count": 272,
   "id": "attempted-status",
   "metadata": {},
   "outputs": [],
   "source": [
    "from sklearn.ensemble import BaggingClassifier\n",
    "bag = BaggingClassifier()\n",
    "bag.fit(x_train,y_train)\n",
    "pred = bag.predict(x_test)"
   ]
  },
  {
   "cell_type": "code",
   "execution_count": 273,
   "id": "viral-spending",
   "metadata": {},
   "outputs": [
    {
     "data": {
      "text/plain": [
       "array([[7, 1],\n",
       "       [5, 3]], dtype=int64)"
      ]
     },
     "execution_count": 273,
     "metadata": {},
     "output_type": "execute_result"
    }
   ],
   "source": [
    "metrics.confusion_matrix(y_test,pred)"
   ]
  },
  {
   "cell_type": "code",
   "execution_count": 274,
   "id": "fantastic-mattress",
   "metadata": {},
   "outputs": [
    {
     "data": {
      "text/plain": [
       "'              precision    recall  f1-score   support\\n\\n           0       0.58      0.88      0.70         8\\n           1       0.75      0.38      0.50         8\\n\\n    accuracy                           0.62        16\\n   macro avg       0.67      0.62      0.60        16\\nweighted avg       0.67      0.62      0.60        16\\n'"
      ]
     },
     "execution_count": 274,
     "metadata": {},
     "output_type": "execute_result"
    }
   ],
   "source": [
    "metrics.classification_report(y_test,pred)"
   ]
  },
  {
   "cell_type": "code",
   "execution_count": 277,
   "id": "atlantic-wagon",
   "metadata": {},
   "outputs": [
    {
     "data": {
      "text/plain": [
       "<AxesSubplot:>"
      ]
     },
     "execution_count": 277,
     "metadata": {},
     "output_type": "execute_result"
    },
    {
     "data": {
      "image/png": "[encoded data removed]",
      "text/plain": [
       "<Figure size 432x288 with 1 Axes>"
      ]
     },
     "metadata": {
      "needs_background": "light"
     },
     "output_type": "display_data"
    }
   ],
   "source": [
    "roc = metrics.roc_curve(y_test,pred)\n",
    "sns.lineplot(x=roc[0], y=roc[1])"
   ]
  },
  {
   "cell_type": "code",
   "execution_count": 278,
   "id": "developing-moral",
   "metadata": {},
   "outputs": [],
   "source": [
    "from sklearn.ensemble import AdaBoostClassifier\n",
    "\n",
    "boost = AdaBoostClassifier()\n",
    "boost.fit(x_train, y_train)\n",
    "pred = boost.predict(x_test)"
   ]
  },
  {
   "cell_type": "code",
   "execution_count": 280,
   "id": "eligible-gardening",
   "metadata": {},
   "outputs": [
    {
     "data": {
      "text/plain": [
       "array([[7, 4],\n",
       "       [1, 4]], dtype=int64)"
      ]
     },
     "execution_count": 280,
     "metadata": {},
     "output_type": "execute_result"
    }
   ],
   "source": [
    "metrics.confusion_matrix(pred,y_test)"
   ]
  },
  {
   "cell_type": "code",
   "execution_count": 281,
   "id": "automated-anniversary",
   "metadata": {},
   "outputs": [
    {
     "data": {
      "text/plain": [
       "'              precision    recall  f1-score   support\\n\\n           0       0.88      0.64      0.74        11\\n           1       0.50      0.80      0.62         5\\n\\n    accuracy                           0.69        16\\n   macro avg       0.69      0.72      0.68        16\\nweighted avg       0.76      0.69      0.70        16\\n'"
      ]
     },
     "execution_count": 281,
     "metadata": {},
     "output_type": "execute_result"
    }
   ],
   "source": [
    "metrics.classification_report(pred,y_test)"
   ]
  },
  {
   "cell_type": "code",
   "execution_count": 283,
   "id": "diverse-container",
   "metadata": {},
   "outputs": [
    {
     "data": {
      "text/plain": [
       "<AxesSubplot:>"
      ]
     },
     "execution_count": 283,
     "metadata": {},
     "output_type": "execute_result"
    },
    {
     "data": {
      "image/png": "[encoded data removed]",
      "text/plain": [
       "<Figure size 432x288 with 1 Axes>"
      ]
     },
     "metadata": {
      "needs_background": "light"
     },
     "output_type": "display_data"
    }
   ],
   "source": [
    "roc = metrics.roc_curve(pred,y_test)\n",
    "sns.lineplot(x=roc[0],y=roc[1])"
   ]
  },
  {
   "cell_type": "code",
   "execution_count": 301,
   "id": "undefined-invite",
   "metadata": {},
   "outputs": [],
   "source": [
    "from sklearn.cluster import KMeans\n",
    "\n",
    "kmeans = KMeans(n_clusters=2, random_state=0)\n",
    "kmeans.fit(x_train, y_train)\n",
    "pred = kmeans.predict(x_test)"
   ]
  },
  {
   "cell_type": "code",
   "execution_count": 302,
   "id": "small-rochester",
   "metadata": {},
   "outputs": [
    {
     "data": {
      "text/plain": [
       "array([[6, 6],\n",
       "       [2, 2]], dtype=int64)"
      ]
     },
     "execution_count": 302,
     "metadata": {},
     "output_type": "execute_result"
    }
   ],
   "source": [
    "metrics.confusion_matrix(pred,y_test)"
   ]
  },
  {
   "cell_type": "code",
   "execution_count": 303,
   "id": "early-sewing",
   "metadata": {},
   "outputs": [
    {
     "data": {
      "text/plain": [
       "'              precision    recall  f1-score   support\\n\\n           0       0.75      0.50      0.60        12\\n           1       0.25      0.50      0.33         4\\n\\n    accuracy                           0.50        16\\n   macro avg       0.50      0.50      0.47        16\\nweighted avg       0.62      0.50      0.53        16\\n'"
      ]
     },
     "execution_count": 303,
     "metadata": {},
     "output_type": "execute_result"
    }
   ],
   "source": [
    "metrics.classification_report(pred,y_test)"
   ]
  },
  {
   "cell_type": "code",
   "execution_count": 304,
   "id": "educated-atmosphere",
   "metadata": {},
   "outputs": [
    {
     "data": {
      "text/plain": [
       "<AxesSubplot:>"
      ]
     },
     "execution_count": 304,
     "metadata": {},
     "output_type": "execute_result"
    },
    {
     "data": {
      "image/png": "[encoded data removed]",
      "text/plain": [
       "<Figure size 432x288 with 1 Axes>"
      ]
     },
     "metadata": {
      "needs_background": "light"
     },
     "output_type": "display_data"
    }
   ],
   "source": [
    "roc = metrics.roc_curve(y_test,pred)\n",
    "sns.lineplot(x=roc[0],y=roc[1])"
   ]
  },
  {
   "cell_type": "code",
   "execution_count": 379,
   "id": "colored-contribution",
   "metadata": {},
   "outputs": [],
   "source": [
    "from sklearn.cluster import AgglomerativeClustering\n",
    "\n",
    "agg =  AgglomerativeClustering(n_clusters=5)\n",
    "clust = agg.fit_predict(data[['gender','category','type','score','items','income']])"
   ]
  },
  {
   "cell_type": "code",
   "execution_count": 380,
   "id": "suited-fitness",
   "metadata": {},
   "outputs": [
    {
     "data": {
      "text/plain": [
       "<mpl_toolkits.mplot3d.art3d.Path3DCollection at 0x1e43df833d0>"
      ]
     },
     "execution_count": 380,
     "metadata": {},
     "output_type": "execute_result"
    },
    {
     "data": {
      "image/png": "[encoded data removed]",
      "text/plain": [
       "<Figure size 432x288 with 1 Axes>"
      ]
     },
     "metadata": {
      "needs_background": "light"
     },
     "output_type": "display_data"
    }
   ],
   "source": [
    "ax = plt.axes(projection='3d')\n",
    "ax.scatter3D(data.score, data.type, data.income,c=clust,cmap='viridis')"
   ]
  }
 ],
 "metadata": {
  "kernelspec": {
   "display_name": "Python 3",
   "language": "python",
   "name": "python3"
  },
  "language_info": {
   "codemirror_mode": {
    "name": "ipython",
    "version": 3
   },
   "file_extension": ".py",
   "mimetype": "text/x-python",
   "name": "python",
   "nbconvert_exporter": "python",
   "pygments_lexer": "ipython3",
   "version": "3.9.0"
  }
 },
 "nbformat": 4,
 "nbformat_minor": 5
}
